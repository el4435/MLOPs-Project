{
 "cells": [
  {
   "cell_type": "code",
   "execution_count": null,
   "metadata": {},
   "outputs": [],
   "source": [
    "import pandas as pd\n",
    "import matplotlib.pyplot as plt\n",
    "\n",
    "df = pd.read_csv(\"../serving/app/feedback.csv\")\n",
    "df[\"error\"] = abs(df[\"predicted\"] - df[\"actual\"])\n",
    "\n",
    "print(\"MAE:\", df[\"error\"].mean())\n",
    "print(\"RMSE:\", ((df[\"error\"] ** 2).mean()) ** 0.5)\n",
    "\n",
    "df.groupby(\"hour\")[\"error\"].mean().plot(kind=\"bar\", title=\"MAE by Hour\")\n",
    "plt.ylabel(\"Mean Absolute Error\")\n",
    "plt.xlabel(\"Hour\")\n",
    "plt.grid(True)\n",
    "plt.show()\n",
    "\n",
    "df.groupby(\"zone\")[\"error\"].mean().plot(kind=\"bar\", title=\"MAE by Zone\", color=\"orange\")\n",
    "plt.ylabel(\"Mean Absolute Error\")\n",
    "plt.xlabel(\"Zone\")\n",
    "plt.grid(True)\n",
    "plt.show()\n"
   ]
  }
 ],
 "metadata": {
  "language_info": {
   "name": "python"
  }
 },
 "nbformat": 4,
 "nbformat_minor": 2
}
