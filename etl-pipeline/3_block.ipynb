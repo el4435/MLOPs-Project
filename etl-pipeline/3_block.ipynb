{
 "cells": [
  {
   "cell_type": "code",
   "execution_count": 12,
   "metadata": {
    "tags": []
   },
   "outputs": [],
   "source": [
    "# run in Chameleon Jupyter environment\n",
    "# get the Cinder Python client configured by python-chi\n",
    "cinder_client = chi.clients.cinder()\n"
   ]
  },
  {
   "cell_type": "code",
   "execution_count": 13,
   "metadata": {
    "tags": []
   },
   "outputs": [
    {
     "data": {
      "text/plain": [
       "[<Volume: d9464e3d-5758-4b78-9756-9b9ba80bf7a0>,\n",
       " <Volume: a410c7e4-570e-4db6-b0cb-d9a4c64a68b0>,\n",
       " <Volume: cfb52ba1-4d75-4ffe-8228-caa3ed7a2e96>,\n",
       " <Volume: fcdc9079-380a-4e24-90db-f9926f942167>,\n",
       " <Volume: 36e0e2f4-2301-4b90-bb93-262b34e15557>,\n",
       " <Volume: 0bc2d81b-6f95-4d1a-a66e-67384fb7c828>,\n",
       " <Volume: b4166fb4-fd9c-4391-b166-aa0428500cf4>,\n",
       " <Volume: 14e0145b-64ff-4b73-9064-0e82c606b296>,\n",
       " <Volume: 34c06579-6250-48ba-85dc-006a5be64446>,\n",
       " <Volume: 90351ad5-73f3-4ecf-8b0a-caf466ae2eea>,\n",
       " <Volume: ff518a76-715b-4994-9466-d984787b53fc>,\n",
       " <Volume: 290d3eba-91e6-4837-93bb-01af475579c1>,\n",
       " <Volume: 86168d88-e7e1-4f13-b89b-bd001875d29e>,\n",
       " <Volume: 5f68ecdd-6972-4801-bffa-d14a17ea33e6>,\n",
       " <Volume: 7ecdecd4-4073-4e99-88c3-5a42aa8ee294>,\n",
       " <Volume: e5c933c4-0d10-4daa-81eb-639c1d6f8b00>,\n",
       " <Volume: a02bfbf6-bc1e-4e51-8ff6-662acc094396>,\n",
       " <Volume: dbc354d0-dc8f-40c9-9aea-f0c90c396e8e>,\n",
       " <Volume: 0959d1c7-d700-41ea-9532-824d7bc3f155>,\n",
       " <Volume: b93cd214-0470-45f9-b249-c9dfd6ff8744>,\n",
       " <Volume: ec4f3850-6ab8-419a-9294-3b11ab69b07d>,\n",
       " <Volume: 4e57974e-c241-4b33-8418-61eaec8ccd31>,\n",
       " <Volume: bd680936-f2b3-45b3-9402-39919531a2d4>,\n",
       " <Volume: a79aac2e-7f93-4717-9ea3-cd00a6991a76>,\n",
       " <Volume: 5362d7a7-0c3b-44a2-82bf-0c9777fc0017>,\n",
       " <Volume: 0782bca9-b0ff-49c3-801f-b53a15bf7193>,\n",
       " <Volume: b82fc622-4686-4b13-b0f7-7c27a81d2c76>,\n",
       " <Volume: 3b10262b-763a-4eff-8836-f5eef5bc1163>,\n",
       " <Volume: 3522b2ea-cff3-4e4a-9d23-9473d1a250d1>,\n",
       " <Volume: 34900e97-9971-4e35-b17f-7744936c7279>,\n",
       " <Volume: 0da1771f-9603-4b0e-a02d-25c695244dd6>,\n",
       " <Volume: c07bdd62-5e9b-445f-9901-a584cd1ae66c>,\n",
       " <Volume: a5bec1ce-8734-4e33-aa2e-c3403249727c>,\n",
       " <Volume: d3dde8f2-0e83-42ed-9344-2c71907b3916>,\n",
       " <Volume: 9a872ab0-dd2a-4bcc-8e14-1067e533cc7f>,\n",
       " <Volume: b626f057-fc7c-4aa9-8355-d2bce79842e6>,\n",
       " <Volume: 088b2999-b3de-41a0-8cd9-76387dd0d883>,\n",
       " <Volume: 648ae97c-ad33-45a6-8419-b7f4d898c855>,\n",
       " <Volume: dc15c045-4762-427c-a2c7-8e6d32dade05>,\n",
       " <Volume: 620c2bb8-b7d4-4bcd-a946-d39086d228d7>,\n",
       " <Volume: acced829-3405-45bf-907c-bf46335812ee>,\n",
       " <Volume: a3e745d6-28ae-4af2-867e-5eed6db2229a>,\n",
       " <Volume: 4acca7ee-f2c2-49ec-96c2-9bbcf4aab200>,\n",
       " <Volume: 143c4931-264f-451a-8a16-bb3b868ca428>,\n",
       " <Volume: c4d9e97d-1909-45c2-ad92-4d73a7642151>,\n",
       " <Volume: 5310f079-f419-48b9-bab3-a18e1d6357ab>,\n",
       " <Volume: 34ad9544-ab4e-47de-89c4-8b5df4f822d9>,\n",
       " <Volume: e3f1235d-f473-4677-a735-9474520c3ba9>,\n",
       " <Volume: 2e363ec1-5e2b-43e1-9c42-be5adeadf205>,\n",
       " <Volume: 631c779f-9bab-4df7-8d55-9f34b173e1f2>,\n",
       " <Volume: 768917db-be7c-4fb3-b368-fac14549d382>,\n",
       " <Volume: 1725b016-f765-409a-84c8-edb3819310a2>,\n",
       " <Volume: d0c861fe-5016-4154-929d-e90bf45bf6df>,\n",
       " <Volume: b1438009-b902-4e47-9e6a-955df2ad1d78>,\n",
       " <Volume: 1a381ba1-f025-4371-9146-2efbe15f926c>,\n",
       " <Volume: b9dbf770-b4d7-47bf-beaf-e50fd18a0971>,\n",
       " <Volume: c0426918-6c3c-4a5b-b67c-b7fbce286677>,\n",
       " <Volume: dce99464-a11e-4fc1-9853-385559c03796>,\n",
       " <Volume: ec013b3f-12a7-44c8-b752-53737b2426d9>,\n",
       " <Volume: b66b20f7-cdb1-454e-a789-6c69be149faa>,\n",
       " <Volume: ada8e171-e7fd-4e8b-b8ea-83a1b67b1bf5>,\n",
       " <Volume: 1c93da13-eae6-4594-8d14-84c021d18c55>,\n",
       " <Volume: ff2bc916-fa34-4ed8-9325-b5b1acbde276>,\n",
       " <Volume: 19c615ef-584a-484c-a5e2-dc1acfa19af8>,\n",
       " <Volume: d7d03c0e-6293-4993-bbcf-a1c72b14f4d3>,\n",
       " <Volume: d5160a9b-3c25-453d-b798-1f96c1adb0ec>,\n",
       " <Volume: ed6061ca-b65e-4f86-9c7b-2e8ec93db3f1>,\n",
       " <Volume: eb6a588b-534a-416d-af10-184d030f6cbf>,\n",
       " <Volume: 583b519a-ea4b-4e31-9e8f-c9eebe22aba8>,\n",
       " <Volume: dff5eb87-7021-4dc9-ae5b-b605627b316e>,\n",
       " <Volume: 6cab7cc4-4741-46e1-9512-d62c639feadb>,\n",
       " <Volume: a1c8fc52-91cb-4fd6-a68b-23d6b58d1ae0>,\n",
       " <Volume: 7768e940-0522-4c25-876d-1a84f5c6e192>,\n",
       " <Volume: 08bbfbe0-3bf4-4670-8e4e-39e4a94cb84a>,\n",
       " <Volume: 705aa9a4-d0a8-4c2f-b588-ba0229acf5d6>,\n",
       " <Volume: 54248133-ad91-4bf3-bd80-56f5b7f0bdec>,\n",
       " <Volume: 362e3c3f-1be4-4f50-a9c7-9a70ce942524>,\n",
       " <Volume: 4b0abb99-b668-412f-a3c8-a675f17b4417>,\n",
       " <Volume: a8c08ff7-4ab8-4ce6-a400-e4f32f328acd>,\n",
       " <Volume: fdcc33f3-b5ff-45da-957b-150c22a43fdd>,\n",
       " <Volume: a27f5d9b-3d44-4e28-b797-23c42c032f35>,\n",
       " <Volume: 85384224-f589-4710-af53-19341c4a3fa4>,\n",
       " <Volume: 775d833b-36fd-4b0c-877b-93192773a859>,\n",
       " <Volume: 4f66e976-945c-44c1-a711-96503a8c354c>,\n",
       " <Volume: 04c0524b-1e1b-48f0-8e70-9c6d00fe602d>,\n",
       " <Volume: a589bf69-dc39-4665-8d7a-a62085b9c1c5>,\n",
       " <Volume: 79b8ee33-b7d9-43ae-83b7-a7a1cab74e6b>,\n",
       " <Volume: 6f3b9fb0-b400-4ddb-be30-14ad9264c392>,\n",
       " <Volume: 961be5b3-a249-44eb-9e9e-1b2b640f020f>,\n",
       " <Volume: 786d2097-7654-4826-bb2a-7c41d58fbc0d>,\n",
       " <Volume: 04fc4ca2-6b98-48d8-9305-1f628af6f383>,\n",
       " <Volume: 654727bc-669b-4012-ad9f-e34a4e379517>,\n",
       " <Volume: 4eb0e8d1-4abc-4d91-8650-d80e71ebad2d>,\n",
       " <Volume: 3b301248-4eab-4343-b9ae-0528d342517a>,\n",
       " <Volume: 1c1e0529-e35d-4396-9543-3c7d99717ac0>,\n",
       " <Volume: 58ae48bd-1eb7-4f76-9233-3bd218013bd4>,\n",
       " <Volume: cd708487-4917-4139-ac87-c17ca290afe5>,\n",
       " <Volume: f47ebc77-2ddc-46f4-bef7-16c46f1c6642>,\n",
       " <Volume: e6167c02-ec7c-449e-945c-0bbdf9bbf548>,\n",
       " <Volume: d2e7a58c-a3c1-42b6-8498-f12ef14e2b0c>,\n",
       " <Volume: 6bb3854b-244d-46c1-bd0d-3e22f9e364ef>,\n",
       " <Volume: 10798efb-e3f4-4410-a1f8-ee6d9ece5de9>,\n",
       " <Volume: e9d59d73-3c67-4aa6-ae52-07b2f6c5fd83>,\n",
       " <Volume: 6ecc51a4-93bf-4f11-8c96-84f86e1a1535>,\n",
       " <Volume: cf7bb2f1-e28f-4491-96f4-3e95f551d306>,\n",
       " <Volume: 0b4b905a-55c8-4327-8a7a-ccd29c0b0ac6>,\n",
       " <Volume: 6aaaca52-bbb6-4e7d-bdeb-0dd6da124928>,\n",
       " <Volume: d6add162-da8f-42c2-a9ff-42af5e245dad>,\n",
       " <Volume: 91e29152-ea3c-4663-a051-db6d04c91eca>,\n",
       " <Volume: 492d9a47-1c3b-48be-b78d-9620a3cb863c>,\n",
       " <Volume: a5932e82-cc78-4fb3-a01b-9bf280a0afc2>,\n",
       " <Volume: 05bc8fd5-1078-4aaa-8a57-93449c2c14c5>,\n",
       " <Volume: 45778fe9-4530-43de-a16f-72a381c4776e>,\n",
       " <Volume: b80409e3-dcb0-499c-b66a-7348c061db69>,\n",
       " <Volume: fe4d66a5-86a7-4c10-b6e9-167cab29df77>,\n",
       " <Volume: a36de9d5-a9dc-443e-bb92-5f762e10d271>,\n",
       " <Volume: 3f015e6f-f6f7-47d3-bfdf-3fbe680870f0>,\n",
       " <Volume: 3ce79560-a483-449e-a09c-83ba5d6a7fab>,\n",
       " <Volume: 31dd0284-6d7b-46bc-acfe-f307728cae64>,\n",
       " <Volume: f731e841-66af-4f2b-b093-3a7cbf97042b>,\n",
       " <Volume: d71fd1e8-ee53-4adf-a072-f0deb2a554e4>,\n",
       " <Volume: 77084f56-c8f3-4bf4-913d-7e1e829e7192>,\n",
       " <Volume: 7ef1da1b-5907-448a-8066-7b1cdf5c5fd9>,\n",
       " <Volume: 7d4f3650-5d58-4145-9ddb-f3e0d40b6900>,\n",
       " <Volume: dfd2d2b2-74e0-483a-b9d8-9921ac812ae2>,\n",
       " <Volume: bed22804-0cac-411e-acd9-26e1c57c14ee>,\n",
       " <Volume: f72e72df-ad19-4fc0-889d-adbc2429257d>,\n",
       " <Volume: 7b912179-be43-4885-a4f5-5ec45b0dc818>,\n",
       " <Volume: c4ed1639-f1e4-47a0-a479-13c608fc8d75>,\n",
       " <Volume: b03ba482-4640-4971-a679-0997747653eb>,\n",
       " <Volume: 47592e8b-6b93-4bf4-9bc4-c5507dd10778>,\n",
       " <Volume: d7ebadae-09ab-49da-a8ae-e26ceb32b00a>,\n",
       " <Volume: 8d1ce767-270e-4832-bca4-e28d5df6bf10>,\n",
       " <Volume: 978b2db9-33ae-453b-b740-25986ff61ca0>,\n",
       " <Volume: 3dcf75c0-98d4-4879-9996-d0bb73f6616e>,\n",
       " <Volume: bc02ab32-face-47c3-9732-23235dea1773>,\n",
       " <Volume: 237aec08-5475-4980-bb1a-31574413b18f>,\n",
       " <Volume: cc7b28b6-f8ee-4fc4-bd08-ddabf6ece09d>,\n",
       " <Volume: 58a9db0c-adb1-424e-bfc3-de59de7835ff>,\n",
       " <Volume: d79ea727-c418-44c5-99e4-da0e2bcbbd63>,\n",
       " <Volume: 231a399b-fc99-4fc0-96d2-65228312d91e>,\n",
       " <Volume: 071d4397-882c-4247-b06b-acf7ba3623d1>,\n",
       " <Volume: f82ca11f-e219-4f3d-ba3e-5ba645f324d6>,\n",
       " <Volume: 2bd1dd5f-c764-4754-86cd-e3ee035773e7>,\n",
       " <Volume: af33a48e-32b5-45eb-82c6-afac75cfa2af>,\n",
       " <Volume: 069aa924-258c-407a-bcf3-f07d1676b6d5>,\n",
       " <Volume: 195970f4-c959-48d5-ad30-3b550f7f5b98>,\n",
       " <Volume: 80e7f891-4479-485b-9e17-b8b6718bfd27>,\n",
       " <Volume: 6b665497-a7c5-408b-a4f7-7ac3e81f8c0e>,\n",
       " <Volume: 7153c651-2757-45f9-99e0-9cbbace429f5>,\n",
       " <Volume: d68df71b-a6b3-4e97-b20e-d834cf80158e>,\n",
       " <Volume: db512c6d-15e6-4dd0-ade3-be42c7039b4a>,\n",
       " <Volume: 4164ae16-8ae8-4b88-b6fa-451e427a28e6>,\n",
       " <Volume: 41a94a59-52b7-43bf-865d-a2c16abd0331>,\n",
       " <Volume: 0661285a-ab7c-4ecd-aed7-e706709e5907>,\n",
       " <Volume: c77e2b80-08db-4d80-8050-9cf5eb805667>,\n",
       " <Volume: 84ed6d40-8217-4131-bd40-151d4f6fc51a>,\n",
       " <Volume: e37d212e-870b-472b-a5c3-e3103e92c0bb>,\n",
       " <Volume: 44dbf9de-3455-4d35-9a56-5a4af009cab6>,\n",
       " <Volume: 8fb9a5ef-e9af-440f-a3d6-b6bcd1d4b857>,\n",
       " <Volume: 5d01c152-ecbf-496d-b8ad-eabc15cd5be6>,\n",
       " <Volume: d6a82d33-3eca-4dc0-bb11-d1cc83cd2dcf>,\n",
       " <Volume: 7f9bb6b7-dd9e-45c2-b97a-65e6d01bcbca>,\n",
       " <Volume: 07680eb0-a073-48e8-b3b1-61aef49cd9c0>,\n",
       " <Volume: 0189c2f5-7a72-4738-a5b4-3741510dc472>,\n",
       " <Volume: 536c1556-cc0a-4a63-a319-06805f6bb6e3>,\n",
       " <Volume: 0bb7aa0d-de08-486e-88c0-e3117ac15364>,\n",
       " <Volume: 0bc2e7c4-b114-496f-8fc6-44f1a2b4509d>,\n",
       " <Volume: 86a4bc70-8c79-41f3-9faa-1bfabe1df939>,\n",
       " <Volume: ed833b27-ce0a-4ed1-a073-804d5d4ffc84>,\n",
       " <Volume: f7ff76ae-dfbe-4327-a8a7-54edd6567786>,\n",
       " <Volume: b27aa1b8-5b64-4364-bcae-dc695b72d70b>,\n",
       " <Volume: 52811150-aa33-4402-8c12-c160a040b676>,\n",
       " <Volume: ade4a2f8-1d81-4fac-b81b-e4738e823c4a>,\n",
       " <Volume: 1463a5d3-152d-4af4-9cae-486e6a971f57>,\n",
       " <Volume: 3943562f-2b59-4cf4-af87-5ff551ab612e>,\n",
       " <Volume: e0434703-11ac-484b-b4da-27d189cbfbda>,\n",
       " <Volume: 1f08b529-0ef7-414b-822f-7ba11aa829f9>,\n",
       " <Volume: 30ebb83b-03c7-4678-9224-4fd3ed25a8ea>,\n",
       " <Volume: c640e5dd-2c8d-4cdc-a7ba-b8e432c6e813>,\n",
       " <Volume: de7a1f5f-ab1c-478f-a148-b989d0b995de>,\n",
       " <Volume: f1b4e47c-65ec-4a01-8b87-a4048c2cfc10>,\n",
       " <Volume: 63a05616-57eb-4ab6-9342-a0184ee9f12e>,\n",
       " <Volume: 42b1865a-6ff9-44ed-9f8d-8ca639f4b97c>,\n",
       " <Volume: 88deef3f-d6bf-42d8-a5cd-004e001b44bc>,\n",
       " <Volume: 7a2d8340-54f9-4537-8c1d-98fbaf0e53cb>,\n",
       " <Volume: 7c1742cb-befa-46c2-828f-a244193483bb>,\n",
       " <Volume: 3fc600c5-a867-41cf-b8fe-4d5c001a941f>,\n",
       " <Volume: 82886a3e-e66a-4332-8909-9c59fb3fd71d>,\n",
       " <Volume: 12cfa6d3-e922-4904-85dc-5f6b9c734a13>]"
      ]
     },
     "execution_count": 13,
     "metadata": {},
     "output_type": "execute_result"
    }
   ],
   "source": [
    "# run in Chameleon Jupyter environment\n",
    "# list current volumes\n",
    "cinder_client.volumes.list()"
   ]
  },
  {
   "cell_type": "markdown",
   "metadata": {},
   "source": [
    "We can use the Cinder client to create a *new* block storage volume:"
   ]
  },
  {
   "cell_type": "code",
   "execution_count": 14,
   "metadata": {
    "tags": []
   },
   "outputs": [
    {
     "data": {
      "text/plain": [
       "{'id': '8b0ef69d-eb95-4ef2-9fc5-d21a958bf18d',\n",
       " 'status': 'creating',\n",
       " 'size': 50,\n",
       " 'availability_zone': 'nova',\n",
       " 'created_at': '2025-05-14T09:10:09.295227',\n",
       " 'updated_at': None,\n",
       " 'name': 'block-persist-project21',\n",
       " 'description': None,\n",
       " 'volume_type': 'ceph-hdd',\n",
       " 'snapshot_id': None,\n",
       " 'source_volid': None,\n",
       " 'metadata': {},\n",
       " 'links': [{'rel': 'self',\n",
       "   'href': 'https://kvm.tacc.chameleoncloud.org:8776/v3/89f528973fea4b3a981f9b2344e522de/volumes/8b0ef69d-eb95-4ef2-9fc5-d21a958bf18d'},\n",
       "  {'rel': 'bookmark',\n",
       "   'href': 'https://kvm.tacc.chameleoncloud.org:8776/89f528973fea4b3a981f9b2344e522de/volumes/8b0ef69d-eb95-4ef2-9fc5-d21a958bf18d'}],\n",
       " 'user_id': '28aa53e252d34ed8c668b6e068a3fece6d343db1b862dbcfd37c083704155175',\n",
       " 'bootable': 'false',\n",
       " 'encrypted': False,\n",
       " 'replication_status': None,\n",
       " 'consistencygroup_id': None,\n",
       " 'multiattach': False,\n",
       " 'attachments': []}"
      ]
     },
     "execution_count": 14,
     "metadata": {},
     "output_type": "execute_result"
    }
   ],
   "source": [
    "# run in Chameleon Jupyter environment\n",
    "# create a volume, specifying name and size in GiB\n",
    "volume = cinder_client.volumes.create(name=f\"block-persist-project21\", size=50)\n",
    "volume._info"
   ]
  },
  {
   "cell_type": "markdown",
   "metadata": {},
   "source": [
    "We can attach the volume to a compute instance:"
   ]
  },
  {
   "cell_type": "code",
   "execution_count": 15,
   "metadata": {
    "tags": []
   },
   "outputs": [
    {
     "data": {
      "text/plain": [
       "<Volume: 8b0ef69d-eb95-4ef2-9fc5-d21a958bf18d>"
      ]
     },
     "execution_count": 15,
     "metadata": {},
     "output_type": "execute_result"
    }
   ],
   "source": [
    "# run in Chameleon Jupyter environment\n",
    "server_id = chi.server.get_server(f\"node-persist-el4435-block\").id\n",
    "volume_manager = chi.nova().volumes\n",
    "volume_manager.create_server_volume(server_id = s.id, volume_id = volume.id)"
   ]
  },
  {
   "cell_type": "code",
   "execution_count": null,
   "metadata": {},
   "outputs": [],
   "source": []
  }
 ],
 "metadata": {
  "kernelspec": {
   "display_name": "Python 3 (ipykernel)",
   "language": "python",
   "name": "python3"
  },
  "language_info": {
   "codemirror_mode": {
    "name": "ipython",
    "version": 3
   },
   "file_extension": ".py",
   "mimetype": "text/x-python",
   "name": "python",
   "nbconvert_exporter": "python",
   "pygments_lexer": "ipython3",
   "version": "3.10.9"
  }
 },
 "nbformat": 4,
 "nbformat_minor": 4
}
