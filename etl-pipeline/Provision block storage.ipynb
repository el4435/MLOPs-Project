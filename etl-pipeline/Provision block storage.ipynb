{
 "cells": [
  {
   "cell_type": "code",
   "execution_count": null,
   "id": "93649935-c8a8-4055-9112-22a0ca545ae6",
   "metadata": {},
   "outputs": [],
   "source": [
    "from chi import server, context\n",
    "import chi, os, time, datetime\n",
    "\n",
    "context.version = \"1.0\" \n",
    "context.choose_project()\n",
    "context.choose_site(default=\"KVM@TACC\")"
   ]
  },
  {
   "cell_type": "code",
   "execution_count": null,
   "id": "cc2b39de-d544-4270-ae75-72d4aa40d808",
   "metadata": {},
   "outputs": [],
   "source": [
    "username = os.getenv('USER') # all exp resources will have this prefix\n",
    "s = server.Server(\n",
    "    f\"node-persist-{username}-project21\", \n",
    "    image_name=\"CC-Ubuntu24.04\",\n",
    "    flavor_name=\"m1.large\"\n",
    ")\n",
    "s.submit(idempotent=True)"
   ]
  },
  {
   "cell_type": "code",
   "execution_count": null,
   "id": "52a84a07-e9a5-424c-b3ce-ef44cd16b7c8",
   "metadata": {},
   "outputs": [],
   "source": [
    "s.associate_floating_ip()"
   ]
  },
  {
   "cell_type": "code",
   "execution_count": null,
   "id": "6e3af048-2c22-4ff1-b1e1-462cf442fe76",
   "metadata": {},
   "outputs": [],
   "source": [
    "s.refresh()\n",
    "s.check_connectivity()"
   ]
  },
  {
   "cell_type": "code",
   "execution_count": null,
   "id": "ae7977fe-9767-48ec-a95c-9b14de2310ed",
   "metadata": {},
   "outputs": [],
   "source": [
    "security_groups = [\n",
    "  {'name': \"allow-ssh\", 'port': 22, 'description': \"Enable SSH traffic on TCP port 22\"},\n",
    "  {'name': \"allow-8888\", 'port': 8888, 'description': \"Enable TCP port 8888 (used by Jupyter)\"},\n",
    "  {'name': \"allow-8000\", 'port': 8000, 'description': \"Enable TCP port 8000 (used by MLFlow)\"},\n",
    "  {'name': \"allow-9000\", 'port': 9000, 'description': \"Enable TCP port 9000 (used by MinIO API)\"},\n",
    "  {'name': \"allow-9001\", 'port': 9001, 'description': \"Enable TCP port 9001 (used by MinIO Web UI)\"},\n",
    "  {'name': \"allow-9200\", 'port': 9200, 'description': \"Enable Prometheus metrics port 9200\"}, \n",
    "  {'name': \"allow-9090\", 'port': 9090, 'description': \"Enable Prometheus web UI (port 9090)\"},\n",
    "  {'name': \"allow-3000\", 'port': 3000, 'description': \"Enable TCP port 3000 (used by Grafana)\"},\n",
    "  {'name': \"allow-8880\", 'port': 8880, 'description': \"Enable TCP port 8880 (used by Airflow)\"}\n",
    "]"
   ]
  },
  {
   "cell_type": "code",
   "execution_count": null,
   "id": "f1ac0e60-bb9b-4915-9a34-59d16751c3d2",
   "metadata": {},
   "outputs": [],
   "source": [
    "# configure openstacksdk for actions unsupported by python-chi\n",
    "os_conn = chi.clients.connection()\n",
    "nova_server = chi.nova().servers.get(s.id)\n",
    "\n",
    "for sg in security_groups:\n",
    "\n",
    "  if not os_conn.get_security_group(sg['name']):\n",
    "      os_conn.create_security_group(sg['name'], sg['description'])\n",
    "      os_conn.create_security_group_rule(sg['name'], port_range_min=sg['port'], port_range_max=sg['port'], protocol='tcp', remote_ip_prefix='0.0.0.0/0')\n",
    "\n",
    "  nova_server.add_security_group(sg['name'])\n",
    "\n",
    "print(f\"updated security groups: {[group.name for group in nova_server.list_security_group()]}\")"
   ]
  },
  {
   "cell_type": "code",
   "execution_count": null,
   "id": "487a85b6-219c-479d-92bc-0cbf70e931c9",
   "metadata": {},
   "outputs": [],
   "source": [
    "s.execute(\"git clone https://github.com/el4435/MLOPs-Project.git\")"
   ]
  },
  {
   "cell_type": "code",
   "execution_count": null,
   "id": "780e6fda-624b-4f5c-a1e0-cd16881db54a",
   "metadata": {},
   "outputs": [],
   "source": [
    "s.execute(\"curl -sSL https://get.docker.com/ | sudo sh\")\n",
    "s.execute(\"sudo groupadd -f docker; sudo usermod -aG docker $USER\")"
   ]
  },
  {
   "cell_type": "code",
   "execution_count": null,
   "id": "a3f120c9-6f2e-4559-b5a8-0f619408ecb7",
   "metadata": {},
   "outputs": [],
   "source": [
    "cinder_client = chi.clients.cinder()"
   ]
  },
  {
   "cell_type": "code",
   "execution_count": null,
   "id": "22d41604-d5b8-4f6e-89bd-e4ea322ee653",
   "metadata": {},
   "outputs": [],
   "source": [
    "cinder_client.volumes.list()"
   ]
  },
  {
   "cell_type": "code",
   "execution_count": null,
   "id": "14832c37-3710-4099-880b-a2e66d1322c0",
   "metadata": {},
   "outputs": [],
   "source": [
    "volume = cinder_client.volumes.create(name=f\"block-persist-python-project21\", size=50)\n",
    "volume._info"
   ]
  },
  {
   "cell_type": "code",
   "execution_count": null,
   "id": "6953fe0a-26e6-4845-8199-37b192be2cbe",
   "metadata": {},
   "outputs": [],
   "source": [
    "server_id = chi.server.get_server(f\"node-persist-{username}-project21\").id\n",
    "volume_manager = chi.nova().volumes\n",
    "volume_manager.create_server_volume(server_id = s.id, volume_id = volume.id)"
   ]
  }
 ],
 "metadata": {
  "kernelspec": {
   "display_name": "Python 3 (ipykernel)",
   "language": "python",
   "name": "python3"
  },
  "language_info": {
   "codemirror_mode": {
    "name": "ipython",
    "version": 3
   },
   "file_extension": ".py",
   "mimetype": "text/x-python",
   "name": "python",
   "nbconvert_exporter": "python",
   "pygments_lexer": "ipython3",
   "version": "3.10.9"
  }
 },
 "nbformat": 4,
 "nbformat_minor": 5
}
